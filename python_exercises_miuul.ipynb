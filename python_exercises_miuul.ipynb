{
 "cells": [
  {
   "cell_type": "markdown",
   "id": "98793355",
   "metadata": {},
   "source": [
    "# GOREV 1"
   ]
  },
  {
   "cell_type": "code",
   "execution_count": 25,
   "id": "643c3c94",
   "metadata": {},
   "outputs": [
    {
     "data": {
      "text/plain": [
       "int"
      ]
     },
     "execution_count": 25,
     "metadata": {},
     "output_type": "execute_result"
    }
   ],
   "source": [
    "x = 8\n",
    "type(x)"
   ]
  },
  {
   "cell_type": "code",
   "execution_count": 26,
   "id": "4add9926",
   "metadata": {},
   "outputs": [],
   "source": [
    "y = 3.2"
   ]
  },
  {
   "cell_type": "code",
   "execution_count": 27,
   "id": "995ca5e4",
   "metadata": {},
   "outputs": [
    {
     "data": {
      "text/plain": [
       "float"
      ]
     },
     "execution_count": 27,
     "metadata": {},
     "output_type": "execute_result"
    }
   ],
   "source": [
    "type(y)"
   ]
  },
  {
   "cell_type": "code",
   "execution_count": 28,
   "id": "6778c167",
   "metadata": {},
   "outputs": [],
   "source": [
    "z = 8j +18 "
   ]
  },
  {
   "cell_type": "code",
   "execution_count": 29,
   "id": "9f1d2972",
   "metadata": {},
   "outputs": [
    {
     "data": {
      "text/plain": [
       "complex"
      ]
     },
     "execution_count": 29,
     "metadata": {},
     "output_type": "execute_result"
    }
   ],
   "source": [
    "type(z)"
   ]
  },
  {
   "cell_type": "code",
   "execution_count": 30,
   "id": "6d7a2dc8",
   "metadata": {},
   "outputs": [],
   "source": [
    "a = \"Hello World\""
   ]
  },
  {
   "cell_type": "code",
   "execution_count": 31,
   "id": "37045bd7",
   "metadata": {},
   "outputs": [
    {
     "data": {
      "text/plain": [
       "str"
      ]
     },
     "execution_count": 31,
     "metadata": {},
     "output_type": "execute_result"
    }
   ],
   "source": [
    "type(a)"
   ]
  },
  {
   "cell_type": "code",
   "execution_count": 32,
   "id": "37734aff",
   "metadata": {},
   "outputs": [],
   "source": [
    "b = True"
   ]
  },
  {
   "cell_type": "code",
   "execution_count": 33,
   "id": "aeec3261",
   "metadata": {},
   "outputs": [
    {
     "data": {
      "text/plain": [
       "bool"
      ]
     },
     "execution_count": 33,
     "metadata": {},
     "output_type": "execute_result"
    }
   ],
   "source": [
    "type(b)"
   ]
  },
  {
   "cell_type": "code",
   "execution_count": 34,
   "id": "1238dc17",
   "metadata": {},
   "outputs": [],
   "source": [
    "c = 23 < 22"
   ]
  },
  {
   "cell_type": "code",
   "execution_count": 35,
   "id": "a82b6fa3",
   "metadata": {},
   "outputs": [
    {
     "data": {
      "text/plain": [
       "bool"
      ]
     },
     "execution_count": 35,
     "metadata": {},
     "output_type": "execute_result"
    }
   ],
   "source": [
    "type(c)"
   ]
  },
  {
   "cell_type": "code",
   "execution_count": 36,
   "id": "64d1163f",
   "metadata": {},
   "outputs": [],
   "source": [
    "l = [1, 2, 3, 4, \"String\", 3.2, False]"
   ]
  },
  {
   "cell_type": "code",
   "execution_count": 37,
   "id": "f62efd81",
   "metadata": {},
   "outputs": [
    {
     "data": {
      "text/plain": [
       "list"
      ]
     },
     "execution_count": 37,
     "metadata": {},
     "output_type": "execute_result"
    }
   ],
   "source": [
    "type(l)"
   ]
  },
  {
   "cell_type": "markdown",
   "id": "7a57c0a8",
   "metadata": {},
   "source": [
    "***Listelerin Ozellikleri***"
   ]
  },
  {
   "cell_type": "markdown",
   "id": "d96257f1",
   "metadata": {},
   "source": [
    "#Sıralidir\n",
    "#Kapsayicidir\n",
    "#Degistirilebilir"
   ]
  },
  {
   "cell_type": "code",
   "execution_count": null,
   "id": "38a6fa99",
   "metadata": {},
   "outputs": [],
   "source": []
  },
  {
   "cell_type": "code",
   "execution_count": 38,
   "id": "8122acc8",
   "metadata": {},
   "outputs": [],
   "source": [
    "d = {\"Name\": \"Jake\",\n",
    "    \"Age\": [27, 56],\n",
    "    \"Adress\": \"Downtown\"}"
   ]
  },
  {
   "cell_type": "code",
   "execution_count": 39,
   "id": "2a9a8b60",
   "metadata": {},
   "outputs": [
    {
     "data": {
      "text/plain": [
       "dict"
      ]
     },
     "execution_count": 39,
     "metadata": {},
     "output_type": "execute_result"
    }
   ],
   "source": [
    "type(d)"
   ]
  },
  {
   "cell_type": "markdown",
   "id": "0ca2f87a",
   "metadata": {},
   "source": [
    "***Sözlüklerin Ozellikleri***"
   ]
  },
  {
   "cell_type": "markdown",
   "id": "5fd0c381",
   "metadata": {},
   "source": [
    "#Degistirilebilir\n",
    "#Kapsayıcı\n",
    "#Sırasız\n",
    "#Key degerleri farklı olacak"
   ]
  },
  {
   "cell_type": "code",
   "execution_count": 40,
   "id": "89177baa",
   "metadata": {},
   "outputs": [],
   "source": [
    "t = (\"Machine Learning\", \"Data Science\")"
   ]
  },
  {
   "cell_type": "code",
   "execution_count": 41,
   "id": "3f2addb9",
   "metadata": {},
   "outputs": [
    {
     "data": {
      "text/plain": [
       "tuple"
      ]
     },
     "execution_count": 41,
     "metadata": {},
     "output_type": "execute_result"
    }
   ],
   "source": [
    "type(t)"
   ]
  },
  {
   "cell_type": "markdown",
   "id": "91eeb011",
   "metadata": {},
   "source": [
    "***Tuple Ozellikleri***"
   ]
  },
  {
   "cell_type": "markdown",
   "id": "4402a00d",
   "metadata": {},
   "source": [
    "#Degistirilebilir\n",
    "#Sırasız + Essiz\n",
    "#Kapsayıcı"
   ]
  },
  {
   "cell_type": "code",
   "execution_count": 42,
   "id": "ec69b3e2",
   "metadata": {},
   "outputs": [],
   "source": [
    "s = {\"python\", \"ml\", \"ds\", \"python\"}"
   ]
  },
  {
   "cell_type": "code",
   "execution_count": 43,
   "id": "ac7f6c0e",
   "metadata": {},
   "outputs": [
    {
     "data": {
      "text/plain": [
       "set"
      ]
     },
     "execution_count": 43,
     "metadata": {},
     "output_type": "execute_result"
    }
   ],
   "source": [
    "type(s)"
   ]
  },
  {
   "cell_type": "markdown",
   "id": "0a0073dc",
   "metadata": {},
   "source": [
    "***Setlerin Ozellikleri***"
   ]
  },
  {
   "cell_type": "markdown",
   "id": "705a21a6",
   "metadata": {},
   "source": [
    "#Degistirilebilir\n",
    "#Sirasiz + Essiz\n",
    "#Kapsayici"
   ]
  },
  {
   "cell_type": "markdown",
   "id": "0d4aad9b",
   "metadata": {},
   "source": [
    "# GOREV 2"
   ]
  },
  {
   "cell_type": "markdown",
   "id": "3728b84f",
   "metadata": {},
   "source": [
    "Verilen string ifadenin tüm harflerini büyük harfe çeviriniz. Virgül ve nokta yerine space koyunuz,kelime kelime ayırınız"
   ]
  },
  {
   "cell_type": "code",
   "execution_count": 44,
   "id": "0ff41b15",
   "metadata": {},
   "outputs": [],
   "source": [
    "text = \"The goal is to turn data into information, and information into insight.\""
   ]
  },
  {
   "cell_type": "code",
   "execution_count": 45,
   "id": "abade380",
   "metadata": {},
   "outputs": [
    {
     "data": {
      "text/plain": [
       "['THE',\n",
       " 'GOAL',\n",
       " 'IS',\n",
       " 'TO',\n",
       " 'TURN',\n",
       " 'DATA',\n",
       " 'INTO',\n",
       " 'INFORMATION,',\n",
       " 'AND',\n",
       " 'INFORMATION',\n",
       " 'INTO',\n",
       " 'INSIGHT']"
      ]
     },
     "execution_count": 45,
     "metadata": {},
     "output_type": "execute_result"
    }
   ],
   "source": [
    "text.upper().replace(\" , \" , \" \").replace(\".\", \" \").split()"
   ]
  },
  {
   "cell_type": "markdown",
   "id": "8cae0d1c",
   "metadata": {},
   "source": [
    "# GOREV 3"
   ]
  },
  {
   "cell_type": "markdown",
   "id": "fb3c1f7f",
   "metadata": {},
   "source": [
    "Verilen liste icin asagidaki adimlari uygulayiniz"
   ]
  },
  {
   "cell_type": "code",
   "execution_count": null,
   "id": "ab465b3a",
   "metadata": {},
   "outputs": [],
   "source": [
    "# Adım 1: Verilen listenin eleman sayısına bakınız.\n",
    "# Adım 2: Sıfırıncı ve dokuzuncu indeksteki elemanları çağırınız.\n",
    "# Adım 3: Verilen liste üzerinden [\"D\", \"A\", \"T\", \"A\"] listesi oluşturunuz.\n",
    "# Adım 4: Sekizinci indeksteki elemanı siliniz.\n",
    "# Adım 5: Yeni bir eleman ekleyiniz.\n",
    "# Adım 6: Sekizinci indekse \"N\" elemanını tekrar ekleyiniz."
   ]
  },
  {
   "cell_type": "code",
   "execution_count": 47,
   "id": "45f10843",
   "metadata": {},
   "outputs": [],
   "source": [
    "lst = [\"D\", \"A\", \"T\", \"A\", \"S\", \"C\", \"I\", \"N\", \"C\", \"E\"]"
   ]
  },
  {
   "cell_type": "markdown",
   "id": "e41de351",
   "metadata": {},
   "source": [
    "Adım 1: Verilen listenin eleman sayısına bakınız."
   ]
  },
  {
   "cell_type": "code",
   "execution_count": 48,
   "id": "3d2cf21c",
   "metadata": {},
   "outputs": [
    {
     "data": {
      "text/plain": [
       "10"
      ]
     },
     "execution_count": 48,
     "metadata": {},
     "output_type": "execute_result"
    }
   ],
   "source": [
    "len(lst)"
   ]
  },
  {
   "cell_type": "markdown",
   "id": "b587ea53",
   "metadata": {},
   "source": [
    " Adım 2: Sıfırıncı ve dokuzuncu indeksteki elemanları çağırınız."
   ]
  },
  {
   "cell_type": "code",
   "execution_count": 49,
   "id": "3f0236d0",
   "metadata": {},
   "outputs": [
    {
     "data": {
      "text/plain": [
       "'D'"
      ]
     },
     "execution_count": 49,
     "metadata": {},
     "output_type": "execute_result"
    }
   ],
   "source": [
    "lst[0]"
   ]
  },
  {
   "cell_type": "code",
   "execution_count": 51,
   "id": "e80de9bc",
   "metadata": {},
   "outputs": [
    {
     "data": {
      "text/plain": [
       "'E'"
      ]
     },
     "execution_count": 51,
     "metadata": {},
     "output_type": "execute_result"
    }
   ],
   "source": [
    "lst[9]"
   ]
  },
  {
   "cell_type": "markdown",
   "id": "ec0b3157",
   "metadata": {},
   "source": [
    " Adım 3: Verilen liste üzerinden [\"D\", \"A\", \"T\", \"A\"] listesi oluşturunuz."
   ]
  },
  {
   "cell_type": "code",
   "execution_count": 52,
   "id": "7e43f4f1",
   "metadata": {},
   "outputs": [],
   "source": [
    "data_list = lst[0:4]"
   ]
  },
  {
   "cell_type": "code",
   "execution_count": 53,
   "id": "c0c0e5ed",
   "metadata": {},
   "outputs": [
    {
     "data": {
      "text/plain": [
       "['D', 'A', 'T', 'A']"
      ]
     },
     "execution_count": 53,
     "metadata": {},
     "output_type": "execute_result"
    }
   ],
   "source": [
    "data_list"
   ]
  },
  {
   "cell_type": "markdown",
   "id": "a2e37816",
   "metadata": {},
   "source": [
    "Adım 4: Sekizinci indeksteki elemanı siliniz."
   ]
  },
  {
   "cell_type": "code",
   "execution_count": 54,
   "id": "7cb046c4",
   "metadata": {},
   "outputs": [
    {
     "data": {
      "text/plain": [
       "'C'"
      ]
     },
     "execution_count": 54,
     "metadata": {},
     "output_type": "execute_result"
    }
   ],
   "source": [
    "lst.pop(8)"
   ]
  },
  {
   "cell_type": "markdown",
   "id": "a159ba06",
   "metadata": {},
   "source": [
    "Adım 5: Yeni bir eleman ekleyiniz"
   ]
  },
  {
   "cell_type": "code",
   "execution_count": 55,
   "id": "e4800e36",
   "metadata": {},
   "outputs": [],
   "source": [
    "lst.append(101)"
   ]
  },
  {
   "cell_type": "code",
   "execution_count": 56,
   "id": "72e98c10",
   "metadata": {},
   "outputs": [
    {
     "data": {
      "text/plain": [
       "['D', 'A', 'T', 'A', 'S', 'C', 'I', 'N', 'E', 101]"
      ]
     },
     "execution_count": 56,
     "metadata": {},
     "output_type": "execute_result"
    }
   ],
   "source": [
    "lst"
   ]
  },
  {
   "cell_type": "code",
   "execution_count": 57,
   "id": "b1792cd6",
   "metadata": {},
   "outputs": [],
   "source": [
    "## append fonksiyonu ile sadece listenin sonuna eleman eklenebilir."
   ]
  },
  {
   "cell_type": "markdown",
   "id": "1c0b4239",
   "metadata": {},
   "source": [
    "Adım 6: Sekizinci indekse \"N\" elemanını tekrar ekleyiniz."
   ]
  },
  {
   "cell_type": "code",
   "execution_count": 58,
   "id": "318aab59",
   "metadata": {},
   "outputs": [],
   "source": [
    "lst.insert(8, \"N\")"
   ]
  },
  {
   "cell_type": "code",
   "execution_count": 59,
   "id": "5325ed8e",
   "metadata": {},
   "outputs": [
    {
     "data": {
      "text/plain": [
       "['D', 'A', 'T', 'A', 'S', 'C', 'I', 'N', 'N', 'E', 101]"
      ]
     },
     "execution_count": 59,
     "metadata": {},
     "output_type": "execute_result"
    }
   ],
   "source": [
    "lst"
   ]
  },
  {
   "cell_type": "markdown",
   "id": "97e393bb",
   "metadata": {},
   "source": [
    "# GOREV 4"
   ]
  },
  {
   "cell_type": "markdown",
   "id": "a1898b35",
   "metadata": {},
   "source": [
    "Verilen sözlük yapısına aşağıdaki adımları uygulayınız."
   ]
  },
  {
   "cell_type": "code",
   "execution_count": 62,
   "id": "042171b9",
   "metadata": {},
   "outputs": [],
   "source": [
    "dict = {'Christian' : [\"America\", 18] , \n",
    "       'Daisy' : [\"England\", 12] ,\n",
    "       'Antonio' : [\"Spain\", 22], \n",
    "       'Dante' : [\"Italy\", 25]} "
   ]
  },
  {
   "cell_type": "code",
   "execution_count": 63,
   "id": "a2fc2800",
   "metadata": {},
   "outputs": [],
   "source": [
    "# Adım 1: Key değerlerine erişiniz.\n",
    "# Adım 2: Value'lara erişiniz.\n",
    "# Adım 3: Daisy key'ine ait 12 değerini 13 olarak güncelleyiniz.\n",
    "# Adım 4: Key değeri Ahmet value değeri [Turkey,24] olan yeni bir değer ekleyiniz.\n",
    "# Adım 5: Antonio'yu dictionary'den siliniz."
   ]
  },
  {
   "cell_type": "markdown",
   "id": "a67e0bc1",
   "metadata": {},
   "source": [
    "Adım 1: Key değerlerine erisiniz."
   ]
  },
  {
   "cell_type": "code",
   "execution_count": 64,
   "id": "b6a29c77",
   "metadata": {},
   "outputs": [
    {
     "data": {
      "text/plain": [
       "dict_keys(['Christian', 'Daisy', 'Antonio', 'Dante'])"
      ]
     },
     "execution_count": 64,
     "metadata": {},
     "output_type": "execute_result"
    }
   ],
   "source": [
    "dict.keys()"
   ]
  },
  {
   "cell_type": "markdown",
   "id": "69b460ca",
   "metadata": {},
   "source": [
    "Adım 2: Value'lara erişiniz"
   ]
  },
  {
   "cell_type": "code",
   "execution_count": 65,
   "id": "107029d1",
   "metadata": {},
   "outputs": [
    {
     "data": {
      "text/plain": [
       "dict_values([['America', 18], ['England', 12], ['Spain', 22], ['Italy', 25]])"
      ]
     },
     "execution_count": 65,
     "metadata": {},
     "output_type": "execute_result"
    }
   ],
   "source": [
    "dict.values()"
   ]
  },
  {
   "cell_type": "markdown",
   "id": "81a0b420",
   "metadata": {},
   "source": [
    " Adım 3: Daisy key'ine ait 12 değerini 13 olarak güncelleyiniz."
   ]
  },
  {
   "cell_type": "code",
   "execution_count": 66,
   "id": "8065210c",
   "metadata": {},
   "outputs": [],
   "source": [
    "dict.update({\"Daisy\" : [\"England\", 13]})"
   ]
  },
  {
   "cell_type": "code",
   "execution_count": 67,
   "id": "bc02960d",
   "metadata": {},
   "outputs": [
    {
     "data": {
      "text/plain": [
       "{'Christian': ['America', 18],\n",
       " 'Daisy': ['England', 13],\n",
       " 'Antonio': ['Spain', 22],\n",
       " 'Dante': ['Italy', 25]}"
      ]
     },
     "execution_count": 67,
     "metadata": {},
     "output_type": "execute_result"
    }
   ],
   "source": [
    "dict"
   ]
  },
  {
   "cell_type": "code",
   "execution_count": 68,
   "id": "4258b812",
   "metadata": {},
   "outputs": [],
   "source": [
    "# Bu islemi indeksleme mantigiyla da yapabiliriz"
   ]
  },
  {
   "cell_type": "code",
   "execution_count": 70,
   "id": "54d72278",
   "metadata": {},
   "outputs": [],
   "source": [
    "dict[\"Daisy\"][1] = 14"
   ]
  },
  {
   "cell_type": "code",
   "execution_count": 71,
   "id": "11529d43",
   "metadata": {},
   "outputs": [
    {
     "data": {
      "text/plain": [
       "{'Christian': ['America', 18],\n",
       " 'Daisy': ['England', 14],\n",
       " 'Antonio': ['Spain', 22],\n",
       " 'Dante': ['Italy', 25]}"
      ]
     },
     "execution_count": 71,
     "metadata": {},
     "output_type": "execute_result"
    }
   ],
   "source": [
    "dict"
   ]
  },
  {
   "cell_type": "markdown",
   "id": "f49fa71f",
   "metadata": {},
   "source": [
    " Adım 4: Key değeri Ahmet value değeri [Turkey,24] olan yeni bir değer ekleyiniz."
   ]
  },
  {
   "cell_type": "code",
   "execution_count": 72,
   "id": "b6629bce",
   "metadata": {},
   "outputs": [],
   "source": [
    "dict.update({\"Ahmet\" : [\"Turkey\", 24]})"
   ]
  },
  {
   "cell_type": "code",
   "execution_count": 73,
   "id": "95dbfc69",
   "metadata": {},
   "outputs": [
    {
     "data": {
      "text/plain": [
       "{'Christian': ['America', 18],\n",
       " 'Daisy': ['England', 14],\n",
       " 'Antonio': ['Spain', 22],\n",
       " 'Dante': ['Italy', 25],\n",
       " 'Ahmet': ['Turkey', 24]}"
      ]
     },
     "execution_count": 73,
     "metadata": {},
     "output_type": "execute_result"
    }
   ],
   "source": [
    "dict"
   ]
  },
  {
   "cell_type": "markdown",
   "id": "01435161",
   "metadata": {},
   "source": [
    " Adım 5: Antonio'yu dictionary'den siliniz."
   ]
  },
  {
   "cell_type": "code",
   "execution_count": 74,
   "id": "ad782772",
   "metadata": {},
   "outputs": [
    {
     "data": {
      "text/plain": [
       "['Spain', 22]"
      ]
     },
     "execution_count": 74,
     "metadata": {},
     "output_type": "execute_result"
    }
   ],
   "source": [
    "dict.pop(\"Antonio\")"
   ]
  },
  {
   "cell_type": "code",
   "execution_count": 75,
   "id": "ea758c3d",
   "metadata": {},
   "outputs": [
    {
     "data": {
      "text/plain": [
       "{'Christian': ['America', 18],\n",
       " 'Daisy': ['England', 14],\n",
       " 'Dante': ['Italy', 25],\n",
       " 'Ahmet': ['Turkey', 24]}"
      ]
     },
     "execution_count": 75,
     "metadata": {},
     "output_type": "execute_result"
    }
   ],
   "source": [
    "dict"
   ]
  },
  {
   "cell_type": "markdown",
   "id": "3167c59b",
   "metadata": {},
   "source": [
    "# GOREV 5"
   ]
  },
  {
   "cell_type": "markdown",
   "id": "7c6f6b47",
   "metadata": {},
   "source": [
    "Argüman olarak bir liste alan, listenin içerisindeki tek ve çift sayıları ayrı listelere atayan ve bu listeleri return eden fonksiyon yazınız."
   ]
  },
  {
   "cell_type": "code",
   "execution_count": 76,
   "id": "2a6bdb3d",
   "metadata": {},
   "outputs": [],
   "source": [
    "## Liste elemanlarına tek tek erişmeniz gerekmektedir.\n",
    "## Her bir elemanın çift veya tek olma durumunu kontrol etmekiçin % yapısını kullanırız."
   ]
  },
  {
   "cell_type": "code",
   "execution_count": 80,
   "id": "c939b97d",
   "metadata": {},
   "outputs": [],
   "source": [
    "l = [2, 13, 18, 93, 22]"
   ]
  },
  {
   "cell_type": "code",
   "execution_count": 93,
   "id": "0cb172ec",
   "metadata": {},
   "outputs": [],
   "source": [
    "def  func(list): \n",
    "    cift_list = [ ]\n",
    "    tek_list = [ ]\n",
    "    \n",
    "    for i in list :\n",
    "        if i % 2 == 0 :\n",
    "            cift_list.append(i)\n",
    "        else:\n",
    "            tek_list.append(i)\n",
    "    return cift_list, tek_list\n",
    "\n",
    "cift, tek = func(l)"
   ]
  },
  {
   "cell_type": "code",
   "execution_count": 94,
   "id": "c03018a5",
   "metadata": {},
   "outputs": [
    {
     "data": {
      "text/plain": [
       "([2, 18, 22], [13, 93])"
      ]
     },
     "execution_count": 94,
     "metadata": {},
     "output_type": "execute_result"
    }
   ],
   "source": [
    "cift, tek"
   ]
  },
  {
   "cell_type": "markdown",
   "id": "57f0c4a6",
   "metadata": {},
   "source": [
    "# GOREV 6"
   ]
  },
  {
   "cell_type": "code",
   "execution_count": 95,
   "id": "50526172",
   "metadata": {},
   "outputs": [],
   "source": [
    "# Aşağıda verilen listede mühendislik ve tıp fakülterinde dereceye giren öğrencilerin isimleri bulunmaktadır. Sırasıyla ilk üç öğrenci mühendislik fakültesinin başarı \n",
    "\n",
    "\n",
    "# sırasını temsil ederken son üç öğrenci detıp fakültesi öğrenci sırasına aittir. Enumarate kullanarak öğrenci derecelerini fakülte özelinde yazdırınız."
   ]
  },
  {
   "cell_type": "code",
   "execution_count": 96,
   "id": "158ad32b",
   "metadata": {},
   "outputs": [],
   "source": [
    "ogrenciler = [\"Ali\", \"Veli\", \"Ayse\", \"Talat\", \"Zeynep\", \"Ece\"]"
   ]
  },
  {
   "cell_type": "code",
   "execution_count": 97,
   "id": "0467c28b",
   "metadata": {},
   "outputs": [],
   "source": [
    "## Elemanlar da gezerken aynı zamanda indekslerde de islem yapmak istediğimiz için enumerate kullanırız. Burada i=index, x=elemanlar"
   ]
  },
  {
   "cell_type": "code",
   "execution_count": 98,
   "id": "8ad2db2c",
   "metadata": {},
   "outputs": [
    {
     "name": "stdout",
     "output_type": "stream",
     "text": [
      "Mühendislik Fakültesi 1 . ögrenci:  Ali\n",
      "Mühendislik Fakültesi 2 . ögrenci:  Veli\n",
      "Mühendislik Fakültesi 3 . ögrenci:  Ayse\n",
      "Tıp Fakültesi 1 . ögrenci:  Talat\n",
      "Tıp Fakültesi 2 . ögrenci:  Zeynep\n",
      "Tıp Fakültesi 3 . ögrenci:  Ece\n"
     ]
    }
   ],
   "source": [
    "for i, x in enumerate(ogrenciler):\n",
    "    if i < 3:\n",
    "        i += 1\n",
    "        print(\"Mühendislik Fakültesi\", i, \". ögrenci: \",x)\n",
    "    else:\n",
    "        i -= 2\n",
    "        print(\"Tıp Fakültesi\", i, \". ögrenci: \", x)"
   ]
  },
  {
   "cell_type": "code",
   "execution_count": 100,
   "id": "3a7b62ff",
   "metadata": {},
   "outputs": [],
   "source": [
    "## 0. indekste Ali vardı, onu 1 arttırarak yazdıgımız icin 1. orenci Ali oldu.\n",
    "## 3. indekste Talat vardı, 3'e kadar saydıgımızda else e gelindiginden 2 cıkardıgımızda 1. ogrenci Talat olmus olacak."
   ]
  },
  {
   "cell_type": "markdown",
   "id": "f6880ceb",
   "metadata": {},
   "source": [
    "# GOREV 7"
   ]
  },
  {
   "cell_type": "markdown",
   "id": "8e390960",
   "metadata": {},
   "source": [
    "Asagıda 3 adet liste verilmiştir. Listelerde sırası ile bir dersin kodu, kredisi ve kontenjan bilgileri yer almaktadır. Zip kullanarak ders bilgilerini bastırınız."
   ]
  },
  {
   "cell_type": "code",
   "execution_count": 105,
   "id": "546292b8",
   "metadata": {},
   "outputs": [],
   "source": [
    "ders_kodu = [\"CMP1005\", \"PSY1001\", \"HUK1005\", \"SEN2204\"]\n",
    "kredi = [3, 4, 2, 4]\n",
    "kontenjan = [30, 75, 150, 25]"
   ]
  },
  {
   "cell_type": "markdown",
   "id": "cc46b2f4",
   "metadata": {},
   "source": [
    "Aşağıda 3 adet liste verilmiştir. Listelerde sırası ile bir dersin kodu, kredisi ve kontenjan bilgileri yer\n",
    "almaktadır. Zip kullanarak ders bilgilerini bastırınız."
   ]
  },
  {
   "cell_type": "code",
   "execution_count": null,
   "id": "91d2ad8c",
   "metadata": {},
   "outputs": [],
   "source": [
    "for ders_kodu, kredi, kontenjan in zip(ders_kodu, kredi, kontenjan) :\n",
    "    print(f \"Kredisi {kredi} olan {ders_kodu} kodlu dersin kontenjanı {kontenjan} kisidir.\")"
   ]
  },
  {
   "cell_type": "markdown",
   "id": "ea55ca40",
   "metadata": {},
   "source": [
    "# GOREV 8"
   ]
  },
  {
   "cell_type": "code",
   "execution_count": 111,
   "id": "b7a67f0c",
   "metadata": {},
   "outputs": [],
   "source": [
    "# Aşağıda 2 adet set verilmiştir. Sizden istenilen eğer 1. küme 2. kümeyi kapsiyor ise ortak elemanlarını eğer kapsamıyor ise\n",
    "# 2. kümenin 1. kümeden farkını yazdıracak fonksiyonu tanımlamanız beklenmektedir."
   ]
  },
  {
   "cell_type": "code",
   "execution_count": 123,
   "id": "af37546c",
   "metadata": {},
   "outputs": [
    {
     "name": "stdout",
     "output_type": "stream",
     "text": [
      "{'function', 'lambda', 'qcut', 'miuul'}\n",
      "{'data', 'python'}\n"
     ]
    }
   ],
   "source": [
    "def kume(set1, set2):\n",
    "    \n",
    "    if set1.issuperset(set2):\n",
    "        print(set1.intersection(set2))\n",
    "    else:\n",
    "        print (set2.difference(set1))\n",
    "        \n",
    "kume(kume1, kume2)\n",
    "kume(kume2, kume1)"
   ]
  },
  {
   "cell_type": "code",
   "execution_count": null,
   "id": "269ef069",
   "metadata": {},
   "outputs": [],
   "source": []
  }
 ],
 "metadata": {
  "kernelspec": {
   "display_name": "Python 3 (ipykernel)",
   "language": "python",
   "name": "python3"
  },
  "language_info": {
   "codemirror_mode": {
    "name": "ipython",
    "version": 3
   },
   "file_extension": ".py",
   "mimetype": "text/x-python",
   "name": "python",
   "nbconvert_exporter": "python",
   "pygments_lexer": "ipython3",
   "version": "3.9.13"
  }
 },
 "nbformat": 4,
 "nbformat_minor": 5
}
