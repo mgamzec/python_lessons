{
 "cells": [
  {
   "cell_type": "markdown",
   "id": "d4cf4bcd",
   "metadata": {},
   "source": [
    "# GOREV 1"
   ]
  },
  {
   "cell_type": "markdown",
   "id": "391db2aa",
   "metadata": {},
   "source": [
    "List Comprehension yapısı kullanarak car_crashes verisindeki numeric değişkenlerin isimlerini büyük harfe çeviriniz ve başına NUM ekleyiniz"
   ]
  },
  {
   "cell_type": "code",
   "execution_count": 1,
   "id": "e605441c",
   "metadata": {},
   "outputs": [],
   "source": [
    "import seaborn as sns\n",
    "import pandas as pd\n",
    "pd.set_option('display.max_rows' , None)\n",
    "pd.set_option('display.max_columns' , None)\n",
    "pd.set_option('display.width' , 500)"
   ]
  },
  {
   "cell_type": "code",
   "execution_count": 3,
   "id": "7292e579",
   "metadata": {},
   "outputs": [],
   "source": [
    "df = sns.load_dataset(\"car_crashes\")"
   ]
  },
  {
   "cell_type": "code",
   "execution_count": 4,
   "id": "f0a72ede",
   "metadata": {},
   "outputs": [
    {
     "data": {
      "text/plain": [
       "Index(['total', 'speeding', 'alcohol', 'not_distracted', 'no_previous', 'ins_premium', 'ins_losses', 'abbrev'], dtype='object')"
      ]
     },
     "execution_count": 4,
     "metadata": {},
     "output_type": "execute_result"
    }
   ],
   "source": [
    "df.columns"
   ]
  },
  {
   "cell_type": "code",
   "execution_count": 5,
   "id": "74247030",
   "metadata": {},
   "outputs": [
    {
     "name": "stdout",
     "output_type": "stream",
     "text": [
      "<class 'pandas.core.frame.DataFrame'>\n",
      "RangeIndex: 51 entries, 0 to 50\n",
      "Data columns (total 8 columns):\n",
      " #   Column          Non-Null Count  Dtype  \n",
      "---  ------          --------------  -----  \n",
      " 0   total           51 non-null     float64\n",
      " 1   speeding        51 non-null     float64\n",
      " 2   alcohol         51 non-null     float64\n",
      " 3   not_distracted  51 non-null     float64\n",
      " 4   no_previous     51 non-null     float64\n",
      " 5   ins_premium     51 non-null     float64\n",
      " 6   ins_losses      51 non-null     float64\n",
      " 7   abbrev          51 non-null     object \n",
      "dtypes: float64(7), object(1)\n",
      "memory usage: 3.3+ KB\n"
     ]
    }
   ],
   "source": [
    "df.info()"
   ]
  },
  {
   "cell_type": "code",
   "execution_count": 8,
   "id": "f1f5cef3",
   "metadata": {},
   "outputs": [
    {
     "data": {
      "text/plain": [
       "['NUM_TOTAL',\n",
       " 'NUM_SPEEDING',\n",
       " 'NUM_ALCOHOL',\n",
       " 'NUM_NOT_DISTRACTED',\n",
       " 'NUM_NO_PREVIOUS',\n",
       " 'NUM_INS_PREMIUM',\n",
       " 'NUM_INS_LOSSES',\n",
       " 'NUM_ABBREV']"
      ]
     },
     "execution_count": 8,
     "metadata": {},
     "output_type": "execute_result"
    }
   ],
   "source": [
    "[\"NUM_\" + col.upper() if df[col].dtype != \"o\"  else col.upper() for col in df.columns]"
   ]
  },
  {
   "cell_type": "markdown",
   "id": "94ae240c",
   "metadata": {},
   "source": [
    "# GOREV 2"
   ]
  },
  {
   "cell_type": "markdown",
   "id": "6d7de563",
   "metadata": {},
   "source": [
    "List Comprehension yapısı kullanarak car_crashes verisinde isminde \"no\" barındırmayan değişkenlerin isimlerinin sonuna \"FLAG\" yazınız."
   ]
  },
  {
   "cell_type": "code",
   "execution_count": 9,
   "id": "b7fe5e0d",
   "metadata": {},
   "outputs": [],
   "source": [
    "## Tüm değişkenlerin isimleri büyük harf olmalı.\n",
    "## Tek bir list comprehension yapısı ile yapılmalı."
   ]
  },
  {
   "cell_type": "code",
   "execution_count": 10,
   "id": "f6248f62",
   "metadata": {},
   "outputs": [
    {
     "data": {
      "text/plain": [
       "['TOTAL_FLAG',\n",
       " 'SPEEDING_FLAG',\n",
       " 'ALCOHOL_FLAG',\n",
       " 'NOT_DISTRACTED',\n",
       " 'NO_PREVIOUS',\n",
       " 'INS_PREMIUM_FLAG',\n",
       " 'INS_LOSSES_FLAG',\n",
       " 'ABBREV_FLAG']"
      ]
     },
     "execution_count": 10,
     "metadata": {},
     "output_type": "execute_result"
    }
   ],
   "source": [
    "[col.upper() + \"_FLAG\" if \"no\" not in col else col.upper() for col in df.columns]"
   ]
  },
  {
   "cell_type": "markdown",
   "id": "45ec0acc",
   "metadata": {},
   "source": [
    "# GOREV 3"
   ]
  },
  {
   "cell_type": "markdown",
   "id": "2299f7cc",
   "metadata": {},
   "source": [
    "List Comprehension yapısı kullanarak aşağıda verilen değişken isimlerinden FARKLI olan degiskenlerin isimlerini seçiniz ve yeni bir dataframe oluşturunuz."
   ]
  },
  {
   "cell_type": "code",
   "execution_count": 11,
   "id": "d3cfa042",
   "metadata": {},
   "outputs": [],
   "source": [
    "og_list = [\"abbrev\" , \"no_previous\"]"
   ]
  },
  {
   "cell_type": "code",
   "execution_count": 12,
   "id": "bd4d1627",
   "metadata": {},
   "outputs": [],
   "source": [
    "## Önce verilen listeye göre list comprehension kullanarak new_cols adında yeni liste oluşturunuz.\n",
    "## Sonra df[new_cols] ile bu değişkenleri seçerek yeni bir df oluşturunuz ve adını new_df olarak isimlendiriniz."
   ]
  },
  {
   "cell_type": "code",
   "execution_count": 13,
   "id": "018a702d",
   "metadata": {},
   "outputs": [],
   "source": [
    "new_cols = [col for col in df.columns if col not in og_list]"
   ]
  },
  {
   "cell_type": "code",
   "execution_count": 14,
   "id": "9b109524",
   "metadata": {},
   "outputs": [
    {
     "data": {
      "text/plain": [
       "['total', 'speeding', 'alcohol', 'not_distracted', 'ins_premium', 'ins_losses']"
      ]
     },
     "execution_count": 14,
     "metadata": {},
     "output_type": "execute_result"
    }
   ],
   "source": [
    "new_cols"
   ]
  },
  {
   "cell_type": "code",
   "execution_count": 15,
   "id": "33981d17",
   "metadata": {},
   "outputs": [],
   "source": [
    "new_df = df[new_cols]"
   ]
  },
  {
   "cell_type": "code",
   "execution_count": 16,
   "id": "2d9a0ec5",
   "metadata": {},
   "outputs": [
    {
     "data": {
      "text/html": [
       "<div>\n",
       "<style scoped>\n",
       "    .dataframe tbody tr th:only-of-type {\n",
       "        vertical-align: middle;\n",
       "    }\n",
       "\n",
       "    .dataframe tbody tr th {\n",
       "        vertical-align: top;\n",
       "    }\n",
       "\n",
       "    .dataframe thead th {\n",
       "        text-align: right;\n",
       "    }\n",
       "</style>\n",
       "<table border=\"1\" class=\"dataframe\">\n",
       "  <thead>\n",
       "    <tr style=\"text-align: right;\">\n",
       "      <th></th>\n",
       "      <th>total</th>\n",
       "      <th>speeding</th>\n",
       "      <th>alcohol</th>\n",
       "      <th>not_distracted</th>\n",
       "      <th>ins_premium</th>\n",
       "      <th>ins_losses</th>\n",
       "    </tr>\n",
       "  </thead>\n",
       "  <tbody>\n",
       "    <tr>\n",
       "      <th>0</th>\n",
       "      <td>18.8</td>\n",
       "      <td>7.332</td>\n",
       "      <td>5.640</td>\n",
       "      <td>18.048</td>\n",
       "      <td>784.55</td>\n",
       "      <td>145.08</td>\n",
       "    </tr>\n",
       "    <tr>\n",
       "      <th>1</th>\n",
       "      <td>18.1</td>\n",
       "      <td>7.421</td>\n",
       "      <td>4.525</td>\n",
       "      <td>16.290</td>\n",
       "      <td>1053.48</td>\n",
       "      <td>133.93</td>\n",
       "    </tr>\n",
       "    <tr>\n",
       "      <th>2</th>\n",
       "      <td>18.6</td>\n",
       "      <td>6.510</td>\n",
       "      <td>5.208</td>\n",
       "      <td>15.624</td>\n",
       "      <td>899.47</td>\n",
       "      <td>110.35</td>\n",
       "    </tr>\n",
       "    <tr>\n",
       "      <th>3</th>\n",
       "      <td>22.4</td>\n",
       "      <td>4.032</td>\n",
       "      <td>5.824</td>\n",
       "      <td>21.056</td>\n",
       "      <td>827.34</td>\n",
       "      <td>142.39</td>\n",
       "    </tr>\n",
       "    <tr>\n",
       "      <th>4</th>\n",
       "      <td>12.0</td>\n",
       "      <td>4.200</td>\n",
       "      <td>3.360</td>\n",
       "      <td>10.920</td>\n",
       "      <td>878.41</td>\n",
       "      <td>165.63</td>\n",
       "    </tr>\n",
       "  </tbody>\n",
       "</table>\n",
       "</div>"
      ],
      "text/plain": [
       "   total  speeding  alcohol  not_distracted  ins_premium  ins_losses\n",
       "0   18.8     7.332    5.640          18.048       784.55      145.08\n",
       "1   18.1     7.421    4.525          16.290      1053.48      133.93\n",
       "2   18.6     6.510    5.208          15.624       899.47      110.35\n",
       "3   22.4     4.032    5.824          21.056       827.34      142.39\n",
       "4   12.0     4.200    3.360          10.920       878.41      165.63"
      ]
     },
     "execution_count": 16,
     "metadata": {},
     "output_type": "execute_result"
    }
   ],
   "source": [
    "new_df.head()"
   ]
  },
  {
   "cell_type": "code",
   "execution_count": null,
   "id": "b0b6e2c2",
   "metadata": {},
   "outputs": [],
   "source": []
  }
 ],
 "metadata": {
  "kernelspec": {
   "display_name": "Python 3 (ipykernel)",
   "language": "python",
   "name": "python3"
  },
  "language_info": {
   "codemirror_mode": {
    "name": "ipython",
    "version": 3
   },
   "file_extension": ".py",
   "mimetype": "text/x-python",
   "name": "python",
   "nbconvert_exporter": "python",
   "pygments_lexer": "ipython3",
   "version": "3.9.13"
  }
 },
 "nbformat": 4,
 "nbformat_minor": 5
}
