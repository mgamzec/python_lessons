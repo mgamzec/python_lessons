{
 "cells": [
  {
   "cell_type": "markdown",
   "id": "02f76a1d",
   "metadata": {},
   "source": [
    "# question_1"
   ]
  },
  {
   "cell_type": "code",
   "execution_count": 1,
   "id": "0fe2269e",
   "metadata": {},
   "outputs": [],
   "source": [
    "names = [\"denise\", \"jean\", \"fleur\"]"
   ]
  },
  {
   "cell_type": "code",
   "execution_count": 2,
   "id": "4c6aaacc",
   "metadata": {},
   "outputs": [],
   "source": [
    "ages = [20, 32, 45]"
   ]
  },
  {
   "cell_type": "code",
   "execution_count": 3,
   "id": "08f29b43",
   "metadata": {},
   "outputs": [],
   "source": [
    "cities = [\"lyon\", \"lille\", \"nantes\"]"
   ]
  },
  {
   "cell_type": "code",
   "execution_count": 4,
   "id": "d613aadc",
   "metadata": {},
   "outputs": [
    {
     "data": {
      "text/plain": [
       "[('denise', 20, 'lyon'), ('jean', 32, 'lille'), ('fleur', 45, 'nantes')]"
      ]
     },
     "execution_count": 4,
     "metadata": {},
     "output_type": "execute_result"
    }
   ],
   "source": [
    "list(zip(names,ages,cities))"
   ]
  },
  {
   "cell_type": "markdown",
   "id": "10a3fd97",
   "metadata": {},
   "source": [
    "# question_2"
   ]
  },
  {
   "cell_type": "code",
   "execution_count": 5,
   "id": "8cd716a3",
   "metadata": {},
   "outputs": [],
   "source": [
    "wages = [1000,2000,3000,4000,5000]"
   ]
  },
  {
   "cell_type": "code",
   "execution_count": 6,
   "id": "42796124",
   "metadata": {},
   "outputs": [],
   "source": [
    "new_wages = lambda x: x * 0.20 + x"
   ]
  },
  {
   "cell_type": "code",
   "execution_count": 7,
   "id": "4d9351fd",
   "metadata": {},
   "outputs": [
    {
     "data": {
      "text/plain": [
       "[1200.0, 2400.0, 3600.0, 4800.0, 6000.0]"
      ]
     },
     "execution_count": 7,
     "metadata": {},
     "output_type": "execute_result"
    }
   ],
   "source": [
    "list(map(new_wages, wages))"
   ]
  },
  {
   "cell_type": "markdown",
   "id": "d28e8ea8",
   "metadata": {},
   "source": [
    "# question_3"
   ]
  },
  {
   "cell_type": "code",
   "execution_count": 8,
   "id": "62dccff4",
   "metadata": {},
   "outputs": [],
   "source": [
    "students = [\"Denise\", \"Arsen\", \"Tony\", \"Audrey\"]"
   ]
  },
  {
   "cell_type": "code",
   "execution_count": 9,
   "id": "b2109a79",
   "metadata": {},
   "outputs": [],
   "source": [
    "low = lambda x: x[0].lower()"
   ]
  },
  {
   "cell_type": "code",
   "execution_count": 10,
   "id": "7d82dcae",
   "metadata": {},
   "outputs": [
    {
     "name": "stdout",
     "output_type": "stream",
     "text": [
      "['d', 'a', 't', 'a']\n"
     ]
    }
   ],
   "source": [
    "print(list(map(low, students)))"
   ]
  },
  {
   "cell_type": "markdown",
   "id": "2bd3e519",
   "metadata": {},
   "source": [
    "# question_4"
   ]
  },
  {
   "cell_type": "code",
   "execution_count": 11,
   "id": "e6bcc055",
   "metadata": {},
   "outputs": [],
   "source": [
    "dictn = {\"Denise\": 10, \"Arsen\": 12, \"Tony\" : 15, \"Audrey\": 17}"
   ]
  },
  {
   "cell_type": "code",
   "execution_count": 12,
   "id": "17581bd0",
   "metadata": {},
   "outputs": [],
   "source": [
    "new_dict = {k: v * 2 +3 for(k, v) in dictn.items()}"
   ]
  },
  {
   "cell_type": "code",
   "execution_count": 13,
   "id": "f1640e74",
   "metadata": {},
   "outputs": [
    {
     "data": {
      "text/plain": [
       "{'Denise': 23, 'Arsen': 27, 'Tony': 33, 'Audrey': 37}"
      ]
     },
     "execution_count": 13,
     "metadata": {},
     "output_type": "execute_result"
    }
   ],
   "source": [
    "new_dict"
   ]
  },
  {
   "cell_type": "markdown",
   "id": "8b063eff",
   "metadata": {},
   "source": [
    "# question_5"
   ]
  },
  {
   "cell_type": "code",
   "execution_count": 14,
   "id": "a32a1c9f",
   "metadata": {},
   "outputs": [],
   "source": [
    "numbers = range(1, 10)"
   ]
  },
  {
   "cell_type": "code",
   "execution_count": 15,
   "id": "436a07ae",
   "metadata": {},
   "outputs": [
    {
     "data": {
      "text/plain": [
       "{1: 1, 3: 9, 5: 25, 7: 49, 9: 81}"
      ]
     },
     "execution_count": 15,
     "metadata": {},
     "output_type": "execute_result"
    }
   ],
   "source": [
    "{n: n**2 for n in numbers if n  % 2 != 0}"
   ]
  },
  {
   "cell_type": "code",
   "execution_count": null,
   "id": "86bd2e5e",
   "metadata": {},
   "outputs": [],
   "source": []
  }
 ],
 "metadata": {
  "kernelspec": {
   "display_name": "Python 3 (ipykernel)",
   "language": "python",
   "name": "python3"
  },
  "language_info": {
   "codemirror_mode": {
    "name": "ipython",
    "version": 3
   },
   "file_extension": ".py",
   "mimetype": "text/x-python",
   "name": "python",
   "nbconvert_exporter": "python",
   "pygments_lexer": "ipython3",
   "version": "3.9.13"
  }
 },
 "nbformat": 4,
 "nbformat_minor": 5
}
